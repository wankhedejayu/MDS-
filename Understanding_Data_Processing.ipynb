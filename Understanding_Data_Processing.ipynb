{
 "cells": [
  {
   "cell_type": "code",
   "execution_count": 1,
   "id": "6bb8ff95-719f-43a8-8e63-d647280b99d8",
   "metadata": {},
   "outputs": [],
   "source": [
    "import pandas as pd\n",
    "import numpy as np\n",
    "import matplotlib.pyplot as plt\n",
    "import seaborn as sns\n",
    "import warnings\n",
    "warnings.filterwarnings(\"ignore\")\n"
   ]
  },
  {
   "cell_type": "code",
   "execution_count": 2,
   "id": "d919cad2-4e97-4a14-8bb6-9457e7c33de3",
   "metadata": {},
   "outputs": [
    {
     "data": {
      "text/html": [
       "<div>\n",
       "<style scoped>\n",
       "    .dataframe tbody tr th:only-of-type {\n",
       "        vertical-align: middle;\n",
       "    }\n",
       "\n",
       "    .dataframe tbody tr th {\n",
       "        vertical-align: top;\n",
       "    }\n",
       "\n",
       "    .dataframe thead th {\n",
       "        text-align: right;\n",
       "    }\n",
       "</style>\n",
       "<table border=\"1\" class=\"dataframe\">\n",
       "  <thead>\n",
       "    <tr style=\"text-align: right;\">\n",
       "      <th></th>\n",
       "      <th>CompanyName</th>\n",
       "      <th>TypeOfLaptop</th>\n",
       "      <th>Inches</th>\n",
       "      <th>ScreenResolution</th>\n",
       "      <th>Cpu</th>\n",
       "      <th>Ram</th>\n",
       "      <th>Memory</th>\n",
       "      <th>Gpu</th>\n",
       "      <th>OpSys</th>\n",
       "      <th>Weight</th>\n",
       "      <th>Price</th>\n",
       "    </tr>\n",
       "  </thead>\n",
       "  <tbody>\n",
       "    <tr>\n",
       "      <th>0</th>\n",
       "      <td>MSI</td>\n",
       "      <td>Business Laptop</td>\n",
       "      <td>17.040680</td>\n",
       "      <td>IPS Panel Retina Display 2560x1600</td>\n",
       "      <td>Intel Core i7</td>\n",
       "      <td>12GB</td>\n",
       "      <td>512GB SSD</td>\n",
       "      <td>Intel Iris Xe Graphics</td>\n",
       "      <td>Linux</td>\n",
       "      <td>2.064834</td>\n",
       "      <td>35844.099371</td>\n",
       "    </tr>\n",
       "    <tr>\n",
       "      <th>1</th>\n",
       "      <td>Chuwi</td>\n",
       "      <td>2 in 1 Convertible</td>\n",
       "      <td>16.542395</td>\n",
       "      <td>Full HD</td>\n",
       "      <td>Intel Core i5</td>\n",
       "      <td>12GB</td>\n",
       "      <td>128GB PCIe SSD</td>\n",
       "      <td>Intel Iris Xe Graphics</td>\n",
       "      <td>No OS</td>\n",
       "      <td>4.060656</td>\n",
       "      <td>37019.059051</td>\n",
       "    </tr>\n",
       "    <tr>\n",
       "      <th>2</th>\n",
       "      <td>hp</td>\n",
       "      <td>WorkStation</td>\n",
       "      <td>17.295294</td>\n",
       "      <td>Full HD</td>\n",
       "      <td>Intel Xeon E3-1505M</td>\n",
       "      <td>8GB</td>\n",
       "      <td>1TB HDD</td>\n",
       "      <td>Intel Iris Xe Graphics</td>\n",
       "      <td>Linux</td>\n",
       "      <td>2.901689</td>\n",
       "      <td>33329.360341</td>\n",
       "    </tr>\n",
       "    <tr>\n",
       "      <th>3</th>\n",
       "      <td>MSI</td>\n",
       "      <td>2 in 1 Convertible</td>\n",
       "      <td>11.526203</td>\n",
       "      <td>2K</td>\n",
       "      <td>Intel Core i7</td>\n",
       "      <td>16GB</td>\n",
       "      <td>512GB NVMe SSD</td>\n",
       "      <td>Intel Iris Xe Graphics</td>\n",
       "      <td>Windows 10</td>\n",
       "      <td>2.914843</td>\n",
       "      <td>68631.102486</td>\n",
       "    </tr>\n",
       "    <tr>\n",
       "      <th>4</th>\n",
       "      <td>Microsoft</td>\n",
       "      <td>Gaming</td>\n",
       "      <td>12.649634</td>\n",
       "      <td>Full HD</td>\n",
       "      <td>Intel Core i5</td>\n",
       "      <td>8GB</td>\n",
       "      <td>512GB SSD</td>\n",
       "      <td>AMD Radeon RX 5600M</td>\n",
       "      <td>Windows 10</td>\n",
       "      <td>4.341995</td>\n",
       "      <td>33842.479566</td>\n",
       "    </tr>\n",
       "  </tbody>\n",
       "</table>\n",
       "</div>"
      ],
      "text/plain": [
       "  CompanyName        TypeOfLaptop     Inches  \\\n",
       "0         MSI     Business Laptop  17.040680   \n",
       "1       Chuwi  2 in 1 Convertible  16.542395   \n",
       "2          hp         WorkStation  17.295294   \n",
       "3         MSI  2 in 1 Convertible  11.526203   \n",
       "4   Microsoft              Gaming  12.649634   \n",
       "\n",
       "                     ScreenResolution                   Cpu   Ram  \\\n",
       "0  IPS Panel Retina Display 2560x1600         Intel Core i7  12GB   \n",
       "1                             Full HD         Intel Core i5  12GB   \n",
       "2                             Full HD  Intel Xeon E3-1505M    8GB   \n",
       "3                                  2K         Intel Core i7  16GB   \n",
       "4                             Full HD         Intel Core i5   8GB   \n",
       "\n",
       "           Memory                     Gpu       OpSys    Weight         Price  \n",
       "0       512GB SSD  Intel Iris Xe Graphics       Linux  2.064834  35844.099371  \n",
       "1  128GB PCIe SSD  Intel Iris Xe Graphics       No OS  4.060656  37019.059051  \n",
       "2         1TB HDD  Intel Iris Xe Graphics       Linux  2.901689  33329.360341  \n",
       "3  512GB NVMe SSD  Intel Iris Xe Graphics  Windows 10  2.914843  68631.102486  \n",
       "4       512GB SSD     AMD Radeon RX 5600M  Windows 10  4.341995  33842.479566  "
      ]
     },
     "execution_count": 2,
     "metadata": {},
     "output_type": "execute_result"
    }
   ],
   "source": [
    "data= pd.read_csv(r\"laptops.csv\")\n",
    "df=data.copy()\n",
    "df.head()"
   ]
  },
  {
   "cell_type": "code",
   "execution_count": 3,
   "id": "f0af757d-2010-4e69-a1ae-6ff4c6a1e0dd",
   "metadata": {},
   "outputs": [
    {
     "name": "stdout",
     "output_type": "stream",
     "text": [
      "<class 'pandas.core.frame.DataFrame'>\n",
      "RangeIndex: 1000 entries, 0 to 999\n",
      "Data columns (total 11 columns):\n",
      " #   Column            Non-Null Count  Dtype  \n",
      "---  ------            --------------  -----  \n",
      " 0   CompanyName       1000 non-null   object \n",
      " 1   TypeOfLaptop      1000 non-null   object \n",
      " 2   Inches            1000 non-null   float64\n",
      " 3   ScreenResolution  1000 non-null   object \n",
      " 4   Cpu               1000 non-null   object \n",
      " 5   Ram               1000 non-null   object \n",
      " 6   Memory            1000 non-null   object \n",
      " 7   Gpu               1000 non-null   object \n",
      " 8   OpSys             1000 non-null   object \n",
      " 9   Weight            1000 non-null   float64\n",
      " 10  Price             1000 non-null   float64\n",
      "dtypes: float64(3), object(8)\n",
      "memory usage: 86.1+ KB\n"
     ]
    }
   ],
   "source": [
    "df.info()"
   ]
  },
  {
   "cell_type": "code",
   "execution_count": 4,
   "id": "22a60d4a-1fc9-4d49-bfc8-a54c8b349cde",
   "metadata": {},
   "outputs": [
    {
     "data": {
      "text/html": [
       "<div>\n",
       "<style scoped>\n",
       "    .dataframe tbody tr th:only-of-type {\n",
       "        vertical-align: middle;\n",
       "    }\n",
       "\n",
       "    .dataframe tbody tr th {\n",
       "        vertical-align: top;\n",
       "    }\n",
       "\n",
       "    .dataframe thead th {\n",
       "        text-align: right;\n",
       "    }\n",
       "</style>\n",
       "<table border=\"1\" class=\"dataframe\">\n",
       "  <thead>\n",
       "    <tr style=\"text-align: right;\">\n",
       "      <th></th>\n",
       "      <th>Inches</th>\n",
       "      <th>Weight</th>\n",
       "      <th>Price</th>\n",
       "    </tr>\n",
       "  </thead>\n",
       "  <tbody>\n",
       "    <tr>\n",
       "      <th>count</th>\n",
       "      <td>1000.000000</td>\n",
       "      <td>1000.000000</td>\n",
       "      <td>1000.000000</td>\n",
       "    </tr>\n",
       "    <tr>\n",
       "      <th>mean</th>\n",
       "      <td>14.496646</td>\n",
       "      <td>3.469800</td>\n",
       "      <td>51602.255339</td>\n",
       "    </tr>\n",
       "    <tr>\n",
       "      <th>std</th>\n",
       "      <td>2.066624</td>\n",
       "      <td>0.857112</td>\n",
       "      <td>13802.833231</td>\n",
       "    </tr>\n",
       "    <tr>\n",
       "      <th>min</th>\n",
       "      <td>11.005842</td>\n",
       "      <td>2.000819</td>\n",
       "      <td>30060.275100</td>\n",
       "    </tr>\n",
       "    <tr>\n",
       "      <th>25%</th>\n",
       "      <td>12.677791</td>\n",
       "      <td>2.720228</td>\n",
       "      <td>40376.617670</td>\n",
       "    </tr>\n",
       "    <tr>\n",
       "      <th>50%</th>\n",
       "      <td>14.509298</td>\n",
       "      <td>3.477824</td>\n",
       "      <td>50683.971717</td>\n",
       "    </tr>\n",
       "    <tr>\n",
       "      <th>75%</th>\n",
       "      <td>16.313026</td>\n",
       "      <td>4.189891</td>\n",
       "      <td>61897.280126</td>\n",
       "    </tr>\n",
       "    <tr>\n",
       "      <th>max</th>\n",
       "      <td>17.998786</td>\n",
       "      <td>4.994556</td>\n",
       "      <td>115137.368077</td>\n",
       "    </tr>\n",
       "  </tbody>\n",
       "</table>\n",
       "</div>"
      ],
      "text/plain": [
       "            Inches       Weight          Price\n",
       "count  1000.000000  1000.000000    1000.000000\n",
       "mean     14.496646     3.469800   51602.255339\n",
       "std       2.066624     0.857112   13802.833231\n",
       "min      11.005842     2.000819   30060.275100\n",
       "25%      12.677791     2.720228   40376.617670\n",
       "50%      14.509298     3.477824   50683.971717\n",
       "75%      16.313026     4.189891   61897.280126\n",
       "max      17.998786     4.994556  115137.368077"
      ]
     },
     "execution_count": 4,
     "metadata": {},
     "output_type": "execute_result"
    }
   ],
   "source": [
    "df.describe()     #information from numeric column "
   ]
  },
  {
   "cell_type": "code",
   "execution_count": 5,
   "id": "d9eca4b9-09f4-4d96-a37a-2d4055759abe",
   "metadata": {},
   "outputs": [
    {
     "data": {
      "text/plain": [
       "CompanyName\n",
       "MSI          128\n",
       "Microsoft    118\n",
       "Apple        113\n",
       "lenevo       113\n",
       "Asus         112\n",
       "Chuwi        109\n",
       "Acer         107\n",
       "Dell         101\n",
       "hp            99\n",
       "Name: count, dtype: int64"
      ]
     },
     "execution_count": 5,
     "metadata": {},
     "output_type": "execute_result"
    }
   ],
   "source": [
    "df[\"CompanyName\"].value_counts()"
   ]
  },
  {
   "cell_type": "code",
   "execution_count": 6,
   "id": "d4600128-8a9e-475d-aac6-8fec6d44bd13",
   "metadata": {},
   "outputs": [],
   "source": [
    "df[\"CompanyName\"]= df[\"CompanyName\"].replace(\"Chuwi\",\"Samsung\")"
   ]
  },
  {
   "cell_type": "code",
   "execution_count": 7,
   "id": "b095b4e0-87de-49ad-910b-87c4efeb6bd1",
   "metadata": {},
   "outputs": [
    {
     "data": {
      "text/plain": [
       "CompanyName\n",
       "MSI          128\n",
       "Microsoft    118\n",
       "Apple        113\n",
       "lenevo       113\n",
       "Asus         112\n",
       "Samsung      109\n",
       "Acer         107\n",
       "Dell         101\n",
       "hp            99\n",
       "Name: count, dtype: int64"
      ]
     },
     "execution_count": 7,
     "metadata": {},
     "output_type": "execute_result"
    }
   ],
   "source": [
    "df[\"CompanyName\"].value_counts()   #for changing name "
   ]
  },
  {
   "cell_type": "code",
   "execution_count": 8,
   "id": "7a34b0b4-6fb1-4b1b-93b0-a9c813dc4160",
   "metadata": {},
   "outputs": [
    {
     "data": {
      "text/plain": [
       "TypeOfLaptop\n",
       "Business Laptop       176\n",
       "WorkStation           175\n",
       "Gaming                168\n",
       "UltraBook             166\n",
       "2 in 1 Convertible    162\n",
       "NoteBook              153\n",
       "Name: count, dtype: int64"
      ]
     },
     "execution_count": 8,
     "metadata": {},
     "output_type": "execute_result"
    }
   ],
   "source": [
    "df[\"TypeOfLaptop\"].value_counts()"
   ]
  },
  {
   "cell_type": "code",
   "execution_count": 9,
   "id": "28019f63-a0f6-451e-8b3e-943a827332a2",
   "metadata": {},
   "outputs": [],
   "source": [
    "df[\"TypeOfLaptop\"]=df[\"TypeOfLaptop\"].replace(\"Business Laptop\",\"Business\")\n",
    "df[\"TypeOfLaptop\"]=df[\"TypeOfLaptop\"].replace(\"2 in 1 Convertible\",\"2_in_1\")"
   ]
  },
  {
   "cell_type": "code",
   "execution_count": 10,
   "id": "90487aae-d52a-4ddb-a84e-abab06398b01",
   "metadata": {},
   "outputs": [
    {
     "data": {
      "text/plain": [
       "0      17\n",
       "1      16\n",
       "2      17\n",
       "3      11\n",
       "4      12\n",
       "       ..\n",
       "995    16\n",
       "996    17\n",
       "997    13\n",
       "998    11\n",
       "999    11\n",
       "Name: Inches, Length: 1000, dtype: int64"
      ]
     },
     "execution_count": 10,
     "metadata": {},
     "output_type": "execute_result"
    }
   ],
   "source": [
    "df[\"Inches\"].astype(\"int64\")"
   ]
  },
  {
   "cell_type": "code",
   "execution_count": 11,
   "id": "662267bb-4cde-464c-b54c-628cf6c298c7",
   "metadata": {},
   "outputs": [],
   "source": [
    "df[\"Inches\"]=df[\"Inches\"].astype(\"int64\")"
   ]
  },
  {
   "cell_type": "code",
   "execution_count": 12,
   "id": "22373e39-efa5-46c2-b0db-e0ac9771ae89",
   "metadata": {},
   "outputs": [
    {
     "data": {
      "text/plain": [
       "dtype('int64')"
      ]
     },
     "execution_count": 12,
     "metadata": {},
     "output_type": "execute_result"
    }
   ],
   "source": [
    "df[\"Inches\"].dtype"
   ]
  },
  {
   "cell_type": "code",
   "execution_count": 13,
   "id": "524320f3-530f-43de-8637-89a11af798e8",
   "metadata": {},
   "outputs": [
    {
     "data": {
      "text/plain": [
       "ScreenResolution\n",
       "2K                                           181\n",
       "4K                                           179\n",
       "IPS Panel Full HD / Touchscreen 1920x1080    176\n",
       "Full HD                                      162\n",
       "HD 1920x1080                                 160\n",
       "IPS Panel Retina Display 2560x1600           142\n",
       "Name: count, dtype: int64"
      ]
     },
     "execution_count": 13,
     "metadata": {},
     "output_type": "execute_result"
    }
   ],
   "source": [
    "df[\"ScreenResolution\"].value_counts()"
   ]
  },
  {
   "cell_type": "code",
   "execution_count": 14,
   "id": "facf56d6-e579-42e1-bca5-bb2c61c26c03",
   "metadata": {},
   "outputs": [],
   "source": [
    "df[\"ScreenResolution\"]=df[\"ScreenResolution\"].replace(\"IPS Panel Full HD/ Touchscreen 1920x1080\",\"Touchscreen\")\n",
    "df[\"ScreenResolution\"]=df[\"ScreenResolution\"].replace(\"HD 1920x1080\",\"HD\")\n",
    "df[\"ScreenResolution\"]=df[\"ScreenResolution\"].replace(\"IPS Panel Retina Display 2560x1600\",\"Retina Display\")"
   ]
  },
  {
   "cell_type": "code",
   "execution_count": 15,
   "id": "d767b549-2bc0-44d5-b761-5274b94b3fe1",
   "metadata": {},
   "outputs": [
    {
     "data": {
      "text/plain": [
       "Cpu\n",
       "Intel Xeon E3-1505M               114\n",
       "Intel Atom x5-Z8550               111\n",
       "Intel Core i5                     105\n",
       "Intel Pentium Quad Core N4200     101\n",
       "Intel Celeron Dual Core 3855U      98\n",
       "Intel Core i7                      96\n",
       "Intel Core i9                      95\n",
       "AMD Ryzen 5                        94\n",
       "AMD Ryzen 7                        94\n",
       "AMD A9-Series 9420                 92\n",
       "Name: count, dtype: int64"
      ]
     },
     "execution_count": 15,
     "metadata": {},
     "output_type": "execute_result"
    }
   ],
   "source": [
    "df[\"Cpu\"].value_counts()"
   ]
  },
  {
   "cell_type": "code",
   "execution_count": 16,
   "id": "aae94cd5-8131-4e4d-84f0-391a6cc1b18b",
   "metadata": {},
   "outputs": [
    {
     "data": {
      "text/html": [
       "<div>\n",
       "<style scoped>\n",
       "    .dataframe tbody tr th:only-of-type {\n",
       "        vertical-align: middle;\n",
       "    }\n",
       "\n",
       "    .dataframe tbody tr th {\n",
       "        vertical-align: top;\n",
       "    }\n",
       "\n",
       "    .dataframe thead th {\n",
       "        text-align: right;\n",
       "    }\n",
       "</style>\n",
       "<table border=\"1\" class=\"dataframe\">\n",
       "  <thead>\n",
       "    <tr style=\"text-align: right;\">\n",
       "      <th></th>\n",
       "      <th>CompanyName</th>\n",
       "      <th>TypeOfLaptop</th>\n",
       "      <th>Inches</th>\n",
       "      <th>ScreenResolution</th>\n",
       "      <th>Cpu</th>\n",
       "      <th>Ram</th>\n",
       "      <th>Memory</th>\n",
       "      <th>Gpu</th>\n",
       "      <th>OpSys</th>\n",
       "      <th>Weight</th>\n",
       "      <th>Price</th>\n",
       "    </tr>\n",
       "  </thead>\n",
       "  <tbody>\n",
       "    <tr>\n",
       "      <th>0</th>\n",
       "      <td>MSI</td>\n",
       "      <td>Business</td>\n",
       "      <td>17</td>\n",
       "      <td>Retina Display</td>\n",
       "      <td>Intel Core i7</td>\n",
       "      <td>12GB</td>\n",
       "      <td>512GB SSD</td>\n",
       "      <td>Intel Iris Xe Graphics</td>\n",
       "      <td>Linux</td>\n",
       "      <td>2.064834</td>\n",
       "      <td>35844.099371</td>\n",
       "    </tr>\n",
       "    <tr>\n",
       "      <th>1</th>\n",
       "      <td>Samsung</td>\n",
       "      <td>2_in_1</td>\n",
       "      <td>16</td>\n",
       "      <td>Full HD</td>\n",
       "      <td>Intel Core i5</td>\n",
       "      <td>12GB</td>\n",
       "      <td>128GB PCIe SSD</td>\n",
       "      <td>Intel Iris Xe Graphics</td>\n",
       "      <td>No OS</td>\n",
       "      <td>4.060656</td>\n",
       "      <td>37019.059051</td>\n",
       "    </tr>\n",
       "    <tr>\n",
       "      <th>2</th>\n",
       "      <td>hp</td>\n",
       "      <td>WorkStation</td>\n",
       "      <td>17</td>\n",
       "      <td>Full HD</td>\n",
       "      <td>Intel Xeon E3-1505M</td>\n",
       "      <td>8GB</td>\n",
       "      <td>1TB HDD</td>\n",
       "      <td>Intel Iris Xe Graphics</td>\n",
       "      <td>Linux</td>\n",
       "      <td>2.901689</td>\n",
       "      <td>33329.360341</td>\n",
       "    </tr>\n",
       "    <tr>\n",
       "      <th>3</th>\n",
       "      <td>MSI</td>\n",
       "      <td>2_in_1</td>\n",
       "      <td>11</td>\n",
       "      <td>2K</td>\n",
       "      <td>Intel Core i7</td>\n",
       "      <td>16GB</td>\n",
       "      <td>512GB NVMe SSD</td>\n",
       "      <td>Intel Iris Xe Graphics</td>\n",
       "      <td>Windows 10</td>\n",
       "      <td>2.914843</td>\n",
       "      <td>68631.102486</td>\n",
       "    </tr>\n",
       "    <tr>\n",
       "      <th>4</th>\n",
       "      <td>Microsoft</td>\n",
       "      <td>Gaming</td>\n",
       "      <td>12</td>\n",
       "      <td>Full HD</td>\n",
       "      <td>Intel Core i5</td>\n",
       "      <td>8GB</td>\n",
       "      <td>512GB SSD</td>\n",
       "      <td>AMD Radeon RX 5600M</td>\n",
       "      <td>Windows 10</td>\n",
       "      <td>4.341995</td>\n",
       "      <td>33842.479566</td>\n",
       "    </tr>\n",
       "    <tr>\n",
       "      <th>...</th>\n",
       "      <td>...</td>\n",
       "      <td>...</td>\n",
       "      <td>...</td>\n",
       "      <td>...</td>\n",
       "      <td>...</td>\n",
       "      <td>...</td>\n",
       "      <td>...</td>\n",
       "      <td>...</td>\n",
       "      <td>...</td>\n",
       "      <td>...</td>\n",
       "      <td>...</td>\n",
       "    </tr>\n",
       "    <tr>\n",
       "      <th>995</th>\n",
       "      <td>hp</td>\n",
       "      <td>Gaming</td>\n",
       "      <td>16</td>\n",
       "      <td>HD 1920x1080</td>\n",
       "      <td>AMD A9-Series 9420</td>\n",
       "      <td>8GB</td>\n",
       "      <td>128GB SSD</td>\n",
       "      <td>AMD Radeon RX 5600M</td>\n",
       "      <td>Windows 10</td>\n",
       "      <td>4.685053</td>\n",
       "      <td>40254.533272</td>\n",
       "    </tr>\n",
       "    <tr>\n",
       "      <th>996</th>\n",
       "      <td>Microsoft</td>\n",
       "      <td>WorkStation</td>\n",
       "      <td>17</td>\n",
       "      <td>4K</td>\n",
       "      <td>Intel Celeron Dual Core 3855U</td>\n",
       "      <td>8GB</td>\n",
       "      <td>2TB SATA SSD</td>\n",
       "      <td>NVIDIA GeForce GTX 1650</td>\n",
       "      <td>macOS</td>\n",
       "      <td>3.934182</td>\n",
       "      <td>57272.697780</td>\n",
       "    </tr>\n",
       "    <tr>\n",
       "      <th>997</th>\n",
       "      <td>lenevo</td>\n",
       "      <td>NoteBook</td>\n",
       "      <td>13</td>\n",
       "      <td>HD 1920x1080</td>\n",
       "      <td>AMD Ryzen 7</td>\n",
       "      <td>16GB</td>\n",
       "      <td>128GB PCIe SSD</td>\n",
       "      <td>NVIDIA GeForce GTX 1650</td>\n",
       "      <td>Windows 10</td>\n",
       "      <td>4.047468</td>\n",
       "      <td>48214.606894</td>\n",
       "    </tr>\n",
       "    <tr>\n",
       "      <th>998</th>\n",
       "      <td>Asus</td>\n",
       "      <td>UltraBook</td>\n",
       "      <td>11</td>\n",
       "      <td>Retina Display</td>\n",
       "      <td>Intel Core i9</td>\n",
       "      <td>12GB</td>\n",
       "      <td>1TB Fusion Drive</td>\n",
       "      <td>Intel Iris Xe Graphics</td>\n",
       "      <td>No OS</td>\n",
       "      <td>3.669825</td>\n",
       "      <td>58926.553683</td>\n",
       "    </tr>\n",
       "    <tr>\n",
       "      <th>999</th>\n",
       "      <td>Dell</td>\n",
       "      <td>NoteBook</td>\n",
       "      <td>11</td>\n",
       "      <td>Full HD</td>\n",
       "      <td>Intel Celeron Dual Core 3855U</td>\n",
       "      <td>4GB</td>\n",
       "      <td>4TB HDD</td>\n",
       "      <td>Intel Iris Xe Graphics</td>\n",
       "      <td>No OS</td>\n",
       "      <td>4.799675</td>\n",
       "      <td>63873.992922</td>\n",
       "    </tr>\n",
       "  </tbody>\n",
       "</table>\n",
       "<p>1000 rows × 11 columns</p>\n",
       "</div>"
      ],
      "text/plain": [
       "    CompanyName TypeOfLaptop  Inches ScreenResolution  \\\n",
       "0           MSI     Business      17   Retina Display   \n",
       "1       Samsung       2_in_1      16          Full HD   \n",
       "2            hp  WorkStation      17          Full HD   \n",
       "3           MSI       2_in_1      11               2K   \n",
       "4     Microsoft       Gaming      12          Full HD   \n",
       "..          ...          ...     ...              ...   \n",
       "995          hp       Gaming      16    HD 1920x1080    \n",
       "996   Microsoft  WorkStation      17               4K   \n",
       "997      lenevo     NoteBook      13    HD 1920x1080    \n",
       "998        Asus    UltraBook      11   Retina Display   \n",
       "999        Dell     NoteBook      11          Full HD   \n",
       "\n",
       "                                Cpu   Ram            Memory  \\\n",
       "0                     Intel Core i7  12GB         512GB SSD   \n",
       "1                     Intel Core i5  12GB    128GB PCIe SSD   \n",
       "2              Intel Xeon E3-1505M    8GB           1TB HDD   \n",
       "3                     Intel Core i7  16GB    512GB NVMe SSD   \n",
       "4                     Intel Core i5   8GB         512GB SSD   \n",
       "..                              ...   ...               ...   \n",
       "995              AMD A9-Series 9420   8GB         128GB SSD   \n",
       "996  Intel Celeron Dual Core 3855U    8GB      2TB SATA SSD   \n",
       "997                     AMD Ryzen 7  16GB    128GB PCIe SSD   \n",
       "998                   Intel Core i9  12GB  1TB Fusion Drive   \n",
       "999  Intel Celeron Dual Core 3855U    4GB           4TB HDD   \n",
       "\n",
       "                         Gpu       OpSys    Weight         Price  \n",
       "0     Intel Iris Xe Graphics       Linux  2.064834  35844.099371  \n",
       "1     Intel Iris Xe Graphics       No OS  4.060656  37019.059051  \n",
       "2     Intel Iris Xe Graphics       Linux  2.901689  33329.360341  \n",
       "3     Intel Iris Xe Graphics  Windows 10  2.914843  68631.102486  \n",
       "4        AMD Radeon RX 5600M  Windows 10  4.341995  33842.479566  \n",
       "..                       ...         ...       ...           ...  \n",
       "995      AMD Radeon RX 5600M  Windows 10  4.685053  40254.533272  \n",
       "996  NVIDIA GeForce GTX 1650       macOS  3.934182  57272.697780  \n",
       "997  NVIDIA GeForce GTX 1650  Windows 10  4.047468  48214.606894  \n",
       "998   Intel Iris Xe Graphics       No OS  3.669825  58926.553683  \n",
       "999   Intel Iris Xe Graphics       No OS  4.799675  63873.992922  \n",
       "\n",
       "[1000 rows x 11 columns]"
      ]
     },
     "execution_count": 16,
     "metadata": {},
     "output_type": "execute_result"
    }
   ],
   "source": [
    "df"
   ]
  },
  {
   "cell_type": "code",
   "execution_count": 17,
   "id": "383d03f7-d955-44a9-b195-08c2ccd8c8d7",
   "metadata": {},
   "outputs": [
    {
     "data": {
      "text/plain": [
       "Ram\n",
       "8GB     270\n",
       "12GB    247\n",
       "4GB     243\n",
       "16GB    240\n",
       "Name: count, dtype: int64"
      ]
     },
     "execution_count": 17,
     "metadata": {},
     "output_type": "execute_result"
    }
   ],
   "source": [
    "df[\"Ram\"].value_counts()"
   ]
  },
  {
   "cell_type": "code",
   "execution_count": 18,
   "id": "0c9e195e-b709-4b95-ad78-956a048f3e69",
   "metadata": {},
   "outputs": [],
   "source": [
    "df[\"Ram\"]=df[\"Ram\"].str.replace(\"GB\",\"\")"
   ]
  },
  {
   "cell_type": "code",
   "execution_count": 19,
   "id": "955cb568-0b74-4fd6-98db-b6ebb0119ffc",
   "metadata": {},
   "outputs": [],
   "source": [
    "df[\"Ram\"]=df[\"Ram\"].astype(\"int64\")"
   ]
  },
  {
   "cell_type": "code",
   "execution_count": 20,
   "id": "f8fc046a-e7ed-4d6d-b4e5-ce563c7d8b82",
   "metadata": {},
   "outputs": [
    {
     "data": {
      "text/html": [
       "<div>\n",
       "<style scoped>\n",
       "    .dataframe tbody tr th:only-of-type {\n",
       "        vertical-align: middle;\n",
       "    }\n",
       "\n",
       "    .dataframe tbody tr th {\n",
       "        vertical-align: top;\n",
       "    }\n",
       "\n",
       "    .dataframe thead th {\n",
       "        text-align: right;\n",
       "    }\n",
       "</style>\n",
       "<table border=\"1\" class=\"dataframe\">\n",
       "  <thead>\n",
       "    <tr style=\"text-align: right;\">\n",
       "      <th></th>\n",
       "      <th>CompanyName</th>\n",
       "      <th>TypeOfLaptop</th>\n",
       "      <th>Inches</th>\n",
       "      <th>ScreenResolution</th>\n",
       "      <th>Cpu</th>\n",
       "      <th>Ram</th>\n",
       "      <th>Memory</th>\n",
       "      <th>Gpu</th>\n",
       "      <th>OpSys</th>\n",
       "      <th>Weight</th>\n",
       "      <th>Price</th>\n",
       "    </tr>\n",
       "  </thead>\n",
       "  <tbody>\n",
       "    <tr>\n",
       "      <th>0</th>\n",
       "      <td>MSI</td>\n",
       "      <td>Business</td>\n",
       "      <td>17</td>\n",
       "      <td>Retina Display</td>\n",
       "      <td>Intel Core i7</td>\n",
       "      <td>12</td>\n",
       "      <td>512GB SSD</td>\n",
       "      <td>Intel Iris Xe Graphics</td>\n",
       "      <td>Linux</td>\n",
       "      <td>2.064834</td>\n",
       "      <td>35844.099371</td>\n",
       "    </tr>\n",
       "    <tr>\n",
       "      <th>1</th>\n",
       "      <td>Samsung</td>\n",
       "      <td>2_in_1</td>\n",
       "      <td>16</td>\n",
       "      <td>Full HD</td>\n",
       "      <td>Intel Core i5</td>\n",
       "      <td>12</td>\n",
       "      <td>128GB PCIe SSD</td>\n",
       "      <td>Intel Iris Xe Graphics</td>\n",
       "      <td>No OS</td>\n",
       "      <td>4.060656</td>\n",
       "      <td>37019.059051</td>\n",
       "    </tr>\n",
       "    <tr>\n",
       "      <th>2</th>\n",
       "      <td>hp</td>\n",
       "      <td>WorkStation</td>\n",
       "      <td>17</td>\n",
       "      <td>Full HD</td>\n",
       "      <td>Intel Xeon E3-1505M</td>\n",
       "      <td>8</td>\n",
       "      <td>1TB HDD</td>\n",
       "      <td>Intel Iris Xe Graphics</td>\n",
       "      <td>Linux</td>\n",
       "      <td>2.901689</td>\n",
       "      <td>33329.360341</td>\n",
       "    </tr>\n",
       "    <tr>\n",
       "      <th>3</th>\n",
       "      <td>MSI</td>\n",
       "      <td>2_in_1</td>\n",
       "      <td>11</td>\n",
       "      <td>2K</td>\n",
       "      <td>Intel Core i7</td>\n",
       "      <td>16</td>\n",
       "      <td>512GB NVMe SSD</td>\n",
       "      <td>Intel Iris Xe Graphics</td>\n",
       "      <td>Windows 10</td>\n",
       "      <td>2.914843</td>\n",
       "      <td>68631.102486</td>\n",
       "    </tr>\n",
       "    <tr>\n",
       "      <th>4</th>\n",
       "      <td>Microsoft</td>\n",
       "      <td>Gaming</td>\n",
       "      <td>12</td>\n",
       "      <td>Full HD</td>\n",
       "      <td>Intel Core i5</td>\n",
       "      <td>8</td>\n",
       "      <td>512GB SSD</td>\n",
       "      <td>AMD Radeon RX 5600M</td>\n",
       "      <td>Windows 10</td>\n",
       "      <td>4.341995</td>\n",
       "      <td>33842.479566</td>\n",
       "    </tr>\n",
       "  </tbody>\n",
       "</table>\n",
       "</div>"
      ],
      "text/plain": [
       "  CompanyName TypeOfLaptop  Inches ScreenResolution                   Cpu  \\\n",
       "0         MSI     Business      17   Retina Display         Intel Core i7   \n",
       "1     Samsung       2_in_1      16          Full HD         Intel Core i5   \n",
       "2          hp  WorkStation      17          Full HD  Intel Xeon E3-1505M    \n",
       "3         MSI       2_in_1      11               2K         Intel Core i7   \n",
       "4   Microsoft       Gaming      12          Full HD         Intel Core i5   \n",
       "\n",
       "   Ram          Memory                     Gpu       OpSys    Weight  \\\n",
       "0   12       512GB SSD  Intel Iris Xe Graphics       Linux  2.064834   \n",
       "1   12  128GB PCIe SSD  Intel Iris Xe Graphics       No OS  4.060656   \n",
       "2    8         1TB HDD  Intel Iris Xe Graphics       Linux  2.901689   \n",
       "3   16  512GB NVMe SSD  Intel Iris Xe Graphics  Windows 10  2.914843   \n",
       "4    8       512GB SSD     AMD Radeon RX 5600M  Windows 10  4.341995   \n",
       "\n",
       "          Price  \n",
       "0  35844.099371  \n",
       "1  37019.059051  \n",
       "2  33329.360341  \n",
       "3  68631.102486  \n",
       "4  33842.479566  "
      ]
     },
     "execution_count": 20,
     "metadata": {},
     "output_type": "execute_result"
    }
   ],
   "source": [
    "df.head()"
   ]
  },
  {
   "cell_type": "code",
   "execution_count": 21,
   "id": "fbd47dcc-67c1-4c09-8179-787d2e82ad7e",
   "metadata": {},
   "outputs": [
    {
     "data": {
      "text/plain": [
       "Memory\n",
       "1TB HDD                105\n",
       "2TB SATA SSD            63\n",
       "1TB SSHD                61\n",
       "4TB HDD                 60\n",
       "512GB eMMC              59\n",
       "128GB PCIe SSD          58\n",
       "1TB NVMe SSD            55\n",
       "256GB PCIe SSD          55\n",
       "512GB NVMe SSD          54\n",
       "512GB SSD               51\n",
       "256GB SSD               50\n",
       "2TB HDD                 50\n",
       "1TB Fusion Drive        50\n",
       "2TB NVMe SSD            49\n",
       "256GB Flash Storage     46\n",
       "6TB HDD                 45\n",
       "256GB eMMC              45\n",
       "128GB SSD               44\n",
       "Name: count, dtype: int64"
      ]
     },
     "execution_count": 21,
     "metadata": {},
     "output_type": "execute_result"
    }
   ],
   "source": [
    "df[\"Memory\"].value_counts()"
   ]
  },
  {
   "cell_type": "code",
   "execution_count": 22,
   "id": "e81d76f2-82a5-49cc-ba90-a6d0561c53de",
   "metadata": {},
   "outputs": [],
   "source": [
    "df[\"Memory\"]=df[\"Memory\"].str.replace(\"SATA \",\"\")\n",
    "df[\"Memory\"]=df[\"Memory\"].str.replace(\"SSHD\",\"SSD\")\n",
    "df[\"Memory\"]=df[\"Memory\"].str.replace(\"eMMC\",\"SSD\")\n",
    "df[\"Memory\"]=df[\"Memory\"].str.replace(\"PCIe \",\"\")\n",
    "df[\"Memory\"]=df[\"Memory\"].str.replace(\"NVMe \",\"\")\n",
    "df[\"Memory\"]=df[\"Memory\"].str.replace(\"Fusion Drive\",\"HDD\")\n",
    "df[\"Memory\"]=df[\"Memory\"].str.replace(\"Flash Storage\",\"SSD\")"
   ]
  },
  {
   "cell_type": "code",
   "execution_count": 23,
   "id": "92c1f492-0a43-4ad5-899e-53cd190517f3",
   "metadata": {},
   "outputs": [
    {
     "data": {
      "text/plain": [
       "Memory\n",
       "256GB SSD    196\n",
       "512GB SSD    164\n",
       "1TB HDD      155\n",
       "1TB SSD      116\n",
       "2TB SSD      112\n",
       "128GB SSD    102\n",
       "4TB HDD       60\n",
       "2TB HDD       50\n",
       "6TB HDD       45\n",
       "Name: count, dtype: int64"
      ]
     },
     "execution_count": 23,
     "metadata": {},
     "output_type": "execute_result"
    }
   ],
   "source": [
    "df[\"Memory\"].value_counts()"
   ]
  },
  {
   "cell_type": "code",
   "execution_count": 24,
   "id": "5b236173-9c21-486e-8814-39af73ec3208",
   "metadata": {},
   "outputs": [],
   "source": [
    "dummy_ssd=list(map(lambda x:x if x[-3:]==\"SSD\" else \"0\", df[\"Memory\"]))"
   ]
  },
  {
   "cell_type": "code",
   "execution_count": 25,
   "id": "4494ed1e-1f17-403b-b76d-2d248c47ec33",
   "metadata": {},
   "outputs": [
    {
     "data": {
      "text/plain": [
       "1000"
      ]
     },
     "execution_count": 25,
     "metadata": {},
     "output_type": "execute_result"
    }
   ],
   "source": [
    "len(dummy_ssd)"
   ]
  },
  {
   "cell_type": "code",
   "execution_count": 26,
   "id": "e90b9bb1-b546-4de7-88ee-6972409f40ec",
   "metadata": {},
   "outputs": [],
   "source": [
    "dummy_hdd=list(map(lambda x:x[:-3] if x [-3:]==\"HDD\" else \"0\", df[\"Memory\"]))"
   ]
  },
  {
   "cell_type": "code",
   "execution_count": 28,
   "id": "5ab96de3-64ab-4e16-bd50-72e6d2690808",
   "metadata": {},
   "outputs": [
    {
     "data": {
      "text/plain": [
       "1000"
      ]
     },
     "execution_count": 28,
     "metadata": {},
     "output_type": "execute_result"
    }
   ],
   "source": [
    "len(dummy_hdd)"
   ]
  },
  {
   "cell_type": "code",
   "execution_count": 29,
   "id": "285663b5-4ed6-4130-805d-5769b092a77e",
   "metadata": {},
   "outputs": [],
   "source": [
    "df[\"SSD\"]=dummy_ssd\n",
    "df[\"HDD\"]=dummy_hdd"
   ]
  },
  {
   "cell_type": "code",
   "execution_count": 30,
   "id": "5ff5d7b9-f3f0-4ce4-b312-cb61439ad17a",
   "metadata": {},
   "outputs": [
    {
     "data": {
      "text/html": [
       "<div>\n",
       "<style scoped>\n",
       "    .dataframe tbody tr th:only-of-type {\n",
       "        vertical-align: middle;\n",
       "    }\n",
       "\n",
       "    .dataframe tbody tr th {\n",
       "        vertical-align: top;\n",
       "    }\n",
       "\n",
       "    .dataframe thead th {\n",
       "        text-align: right;\n",
       "    }\n",
       "</style>\n",
       "<table border=\"1\" class=\"dataframe\">\n",
       "  <thead>\n",
       "    <tr style=\"text-align: right;\">\n",
       "      <th></th>\n",
       "      <th>CompanyName</th>\n",
       "      <th>TypeOfLaptop</th>\n",
       "      <th>Inches</th>\n",
       "      <th>ScreenResolution</th>\n",
       "      <th>Cpu</th>\n",
       "      <th>Ram</th>\n",
       "      <th>Memory</th>\n",
       "      <th>Gpu</th>\n",
       "      <th>OpSys</th>\n",
       "      <th>Weight</th>\n",
       "      <th>Price</th>\n",
       "      <th>SSD</th>\n",
       "      <th>HDD</th>\n",
       "    </tr>\n",
       "  </thead>\n",
       "  <tbody>\n",
       "    <tr>\n",
       "      <th>0</th>\n",
       "      <td>MSI</td>\n",
       "      <td>Business</td>\n",
       "      <td>17</td>\n",
       "      <td>Retina Display</td>\n",
       "      <td>Intel Core i7</td>\n",
       "      <td>12</td>\n",
       "      <td>512GB SSD</td>\n",
       "      <td>Intel Iris Xe Graphics</td>\n",
       "      <td>Linux</td>\n",
       "      <td>2.064834</td>\n",
       "      <td>35844.099371</td>\n",
       "      <td>512GB SSD</td>\n",
       "      <td>0</td>\n",
       "    </tr>\n",
       "    <tr>\n",
       "      <th>1</th>\n",
       "      <td>Samsung</td>\n",
       "      <td>2_in_1</td>\n",
       "      <td>16</td>\n",
       "      <td>Full HD</td>\n",
       "      <td>Intel Core i5</td>\n",
       "      <td>12</td>\n",
       "      <td>128GB SSD</td>\n",
       "      <td>Intel Iris Xe Graphics</td>\n",
       "      <td>No OS</td>\n",
       "      <td>4.060656</td>\n",
       "      <td>37019.059051</td>\n",
       "      <td>128GB SSD</td>\n",
       "      <td>0</td>\n",
       "    </tr>\n",
       "    <tr>\n",
       "      <th>2</th>\n",
       "      <td>hp</td>\n",
       "      <td>WorkStation</td>\n",
       "      <td>17</td>\n",
       "      <td>Full HD</td>\n",
       "      <td>Intel Xeon E3-1505M</td>\n",
       "      <td>8</td>\n",
       "      <td>1TB HDD</td>\n",
       "      <td>Intel Iris Xe Graphics</td>\n",
       "      <td>Linux</td>\n",
       "      <td>2.901689</td>\n",
       "      <td>33329.360341</td>\n",
       "      <td>0</td>\n",
       "      <td>1TB</td>\n",
       "    </tr>\n",
       "    <tr>\n",
       "      <th>3</th>\n",
       "      <td>MSI</td>\n",
       "      <td>2_in_1</td>\n",
       "      <td>11</td>\n",
       "      <td>2K</td>\n",
       "      <td>Intel Core i7</td>\n",
       "      <td>16</td>\n",
       "      <td>512GB SSD</td>\n",
       "      <td>Intel Iris Xe Graphics</td>\n",
       "      <td>Windows 10</td>\n",
       "      <td>2.914843</td>\n",
       "      <td>68631.102486</td>\n",
       "      <td>512GB SSD</td>\n",
       "      <td>0</td>\n",
       "    </tr>\n",
       "    <tr>\n",
       "      <th>4</th>\n",
       "      <td>Microsoft</td>\n",
       "      <td>Gaming</td>\n",
       "      <td>12</td>\n",
       "      <td>Full HD</td>\n",
       "      <td>Intel Core i5</td>\n",
       "      <td>8</td>\n",
       "      <td>512GB SSD</td>\n",
       "      <td>AMD Radeon RX 5600M</td>\n",
       "      <td>Windows 10</td>\n",
       "      <td>4.341995</td>\n",
       "      <td>33842.479566</td>\n",
       "      <td>512GB SSD</td>\n",
       "      <td>0</td>\n",
       "    </tr>\n",
       "  </tbody>\n",
       "</table>\n",
       "</div>"
      ],
      "text/plain": [
       "  CompanyName TypeOfLaptop  Inches ScreenResolution                   Cpu  \\\n",
       "0         MSI     Business      17   Retina Display         Intel Core i7   \n",
       "1     Samsung       2_in_1      16          Full HD         Intel Core i5   \n",
       "2          hp  WorkStation      17          Full HD  Intel Xeon E3-1505M    \n",
       "3         MSI       2_in_1      11               2K         Intel Core i7   \n",
       "4   Microsoft       Gaming      12          Full HD         Intel Core i5   \n",
       "\n",
       "   Ram     Memory                     Gpu       OpSys    Weight         Price  \\\n",
       "0   12  512GB SSD  Intel Iris Xe Graphics       Linux  2.064834  35844.099371   \n",
       "1   12  128GB SSD  Intel Iris Xe Graphics       No OS  4.060656  37019.059051   \n",
       "2    8    1TB HDD  Intel Iris Xe Graphics       Linux  2.901689  33329.360341   \n",
       "3   16  512GB SSD  Intel Iris Xe Graphics  Windows 10  2.914843  68631.102486   \n",
       "4    8  512GB SSD     AMD Radeon RX 5600M  Windows 10  4.341995  33842.479566   \n",
       "\n",
       "         SSD   HDD  \n",
       "0  512GB SSD     0  \n",
       "1  128GB SSD     0  \n",
       "2          0  1TB   \n",
       "3  512GB SSD     0  \n",
       "4  512GB SSD     0  "
      ]
     },
     "execution_count": 30,
     "metadata": {},
     "output_type": "execute_result"
    }
   ],
   "source": [
    "df.head()"
   ]
  },
  {
   "cell_type": "code",
   "execution_count": 31,
   "id": "9029692b-5a79-4e0a-96a9-9dc5a6165b57",
   "metadata": {},
   "outputs": [],
   "source": [
    "df.drop(\"Memory\" , axis=1, inplace=True)"
   ]
  },
  {
   "cell_type": "code",
   "execution_count": 32,
   "id": "e46de0cf-3907-4417-a689-bfce07462c1f",
   "metadata": {},
   "outputs": [
    {
     "data": {
      "text/html": [
       "<div>\n",
       "<style scoped>\n",
       "    .dataframe tbody tr th:only-of-type {\n",
       "        vertical-align: middle;\n",
       "    }\n",
       "\n",
       "    .dataframe tbody tr th {\n",
       "        vertical-align: top;\n",
       "    }\n",
       "\n",
       "    .dataframe thead th {\n",
       "        text-align: right;\n",
       "    }\n",
       "</style>\n",
       "<table border=\"1\" class=\"dataframe\">\n",
       "  <thead>\n",
       "    <tr style=\"text-align: right;\">\n",
       "      <th></th>\n",
       "      <th>CompanyName</th>\n",
       "      <th>TypeOfLaptop</th>\n",
       "      <th>Inches</th>\n",
       "      <th>ScreenResolution</th>\n",
       "      <th>Cpu</th>\n",
       "      <th>Ram</th>\n",
       "      <th>Gpu</th>\n",
       "      <th>OpSys</th>\n",
       "      <th>Weight</th>\n",
       "      <th>Price</th>\n",
       "      <th>SSD</th>\n",
       "      <th>HDD</th>\n",
       "    </tr>\n",
       "  </thead>\n",
       "  <tbody>\n",
       "    <tr>\n",
       "      <th>0</th>\n",
       "      <td>MSI</td>\n",
       "      <td>Business</td>\n",
       "      <td>17</td>\n",
       "      <td>Retina Display</td>\n",
       "      <td>Intel Core i7</td>\n",
       "      <td>12</td>\n",
       "      <td>Intel Iris Xe Graphics</td>\n",
       "      <td>Linux</td>\n",
       "      <td>2.064834</td>\n",
       "      <td>35844.099371</td>\n",
       "      <td>512GB SSD</td>\n",
       "      <td>0</td>\n",
       "    </tr>\n",
       "    <tr>\n",
       "      <th>1</th>\n",
       "      <td>Samsung</td>\n",
       "      <td>2_in_1</td>\n",
       "      <td>16</td>\n",
       "      <td>Full HD</td>\n",
       "      <td>Intel Core i5</td>\n",
       "      <td>12</td>\n",
       "      <td>Intel Iris Xe Graphics</td>\n",
       "      <td>No OS</td>\n",
       "      <td>4.060656</td>\n",
       "      <td>37019.059051</td>\n",
       "      <td>128GB SSD</td>\n",
       "      <td>0</td>\n",
       "    </tr>\n",
       "    <tr>\n",
       "      <th>2</th>\n",
       "      <td>hp</td>\n",
       "      <td>WorkStation</td>\n",
       "      <td>17</td>\n",
       "      <td>Full HD</td>\n",
       "      <td>Intel Xeon E3-1505M</td>\n",
       "      <td>8</td>\n",
       "      <td>Intel Iris Xe Graphics</td>\n",
       "      <td>Linux</td>\n",
       "      <td>2.901689</td>\n",
       "      <td>33329.360341</td>\n",
       "      <td>0</td>\n",
       "      <td>1TB</td>\n",
       "    </tr>\n",
       "    <tr>\n",
       "      <th>3</th>\n",
       "      <td>MSI</td>\n",
       "      <td>2_in_1</td>\n",
       "      <td>11</td>\n",
       "      <td>2K</td>\n",
       "      <td>Intel Core i7</td>\n",
       "      <td>16</td>\n",
       "      <td>Intel Iris Xe Graphics</td>\n",
       "      <td>Windows 10</td>\n",
       "      <td>2.914843</td>\n",
       "      <td>68631.102486</td>\n",
       "      <td>512GB SSD</td>\n",
       "      <td>0</td>\n",
       "    </tr>\n",
       "    <tr>\n",
       "      <th>4</th>\n",
       "      <td>Microsoft</td>\n",
       "      <td>Gaming</td>\n",
       "      <td>12</td>\n",
       "      <td>Full HD</td>\n",
       "      <td>Intel Core i5</td>\n",
       "      <td>8</td>\n",
       "      <td>AMD Radeon RX 5600M</td>\n",
       "      <td>Windows 10</td>\n",
       "      <td>4.341995</td>\n",
       "      <td>33842.479566</td>\n",
       "      <td>512GB SSD</td>\n",
       "      <td>0</td>\n",
       "    </tr>\n",
       "  </tbody>\n",
       "</table>\n",
       "</div>"
      ],
      "text/plain": [
       "  CompanyName TypeOfLaptop  Inches ScreenResolution                   Cpu  \\\n",
       "0         MSI     Business      17   Retina Display         Intel Core i7   \n",
       "1     Samsung       2_in_1      16          Full HD         Intel Core i5   \n",
       "2          hp  WorkStation      17          Full HD  Intel Xeon E3-1505M    \n",
       "3         MSI       2_in_1      11               2K         Intel Core i7   \n",
       "4   Microsoft       Gaming      12          Full HD         Intel Core i5   \n",
       "\n",
       "   Ram                     Gpu       OpSys    Weight         Price        SSD  \\\n",
       "0   12  Intel Iris Xe Graphics       Linux  2.064834  35844.099371  512GB SSD   \n",
       "1   12  Intel Iris Xe Graphics       No OS  4.060656  37019.059051  128GB SSD   \n",
       "2    8  Intel Iris Xe Graphics       Linux  2.901689  33329.360341          0   \n",
       "3   16  Intel Iris Xe Graphics  Windows 10  2.914843  68631.102486  512GB SSD   \n",
       "4    8     AMD Radeon RX 5600M  Windows 10  4.341995  33842.479566  512GB SSD   \n",
       "\n",
       "    HDD  \n",
       "0     0  \n",
       "1     0  \n",
       "2  1TB   \n",
       "3     0  \n",
       "4     0  "
      ]
     },
     "execution_count": 32,
     "metadata": {},
     "output_type": "execute_result"
    }
   ],
   "source": [
    "df.head()"
   ]
  },
  {
   "cell_type": "code",
   "execution_count": 33,
   "id": "3ab21b7f-734a-43c5-adf2-12271ab768f1",
   "metadata": {},
   "outputs": [
    {
     "data": {
      "text/plain": [
       "SSD\n",
       "0            310\n",
       "256GB SSD    196\n",
       "512GB SSD    164\n",
       "1TB SSD      116\n",
       "2TB SSD      112\n",
       "128GB SSD    102\n",
       "Name: count, dtype: int64"
      ]
     },
     "execution_count": 33,
     "metadata": {},
     "output_type": "execute_result"
    }
   ],
   "source": [
    "df[\"SSD\"].value_counts()"
   ]
  },
  {
   "cell_type": "code",
   "execution_count": 34,
   "id": "8a4f339b-4886-426c-b715-7b9e3801f7f7",
   "metadata": {},
   "outputs": [
    {
     "data": {
      "text/plain": [
       "0      512 SSD\n",
       "1      128 SSD\n",
       "2            0\n",
       "3      512 SSD\n",
       "4      512 SSD\n",
       "        ...   \n",
       "995    128 SSD\n",
       "996    2TB SSD\n",
       "997    128 SSD\n",
       "998          0\n",
       "999          0\n",
       "Name: SSD, Length: 1000, dtype: object"
      ]
     },
     "execution_count": 34,
     "metadata": {},
     "output_type": "execute_result"
    }
   ],
   "source": [
    "df[\"SSD\"].str.replace(\"GB\",\"\")"
   ]
  },
  {
   "cell_type": "code",
   "execution_count": 41,
   "id": "a88212d8-d0af-4f60-ad1a-f8e16fd99b70",
   "metadata": {},
   "outputs": [
    {
     "ename": "IndentationError",
     "evalue": "expected an indented block after 'for' statement on line 2 (2730353279.py, line 3)",
     "output_type": "error",
     "traceback": [
      "\u001b[1;36m  Cell \u001b[1;32mIn[41], line 3\u001b[1;36m\u001b[0m\n\u001b[1;33m    if \"GB\" in i:\u001b[0m\n\u001b[1;37m    ^\u001b[0m\n\u001b[1;31mIndentationError\u001b[0m\u001b[1;31m:\u001b[0m expected an indented block after 'for' statement on line 2\n"
     ]
    }
   ],
   "source": [
    "ssd = []\n",
    "for i in df[\"SSD\"]:\n",
    "if \"GB\" in i:\n",
    "     ssd.append(int(i.replace(\"GB\",\"\")))\n",
    "elif \"TB\" in i:\n",
    "     ssd.append(int(i.replace(\"TB\",\"\"))*1024)\n",
    "else:\n",
    "     ssd.append(int(i))"
   ]
  },
  {
   "cell_type": "code",
   "execution_count": 42,
   "id": "98804e2e-c7d5-49c2-b8dd-2637e2af8e09",
   "metadata": {},
   "outputs": [
    {
     "ename": "ValueError",
     "evalue": "Length of values (0) does not match length of index (1000)",
     "output_type": "error",
     "traceback": [
      "\u001b[1;31m---------------------------------------------------------------------------\u001b[0m",
      "\u001b[1;31mValueError\u001b[0m                                Traceback (most recent call last)",
      "Cell \u001b[1;32mIn[42], line 1\u001b[0m\n\u001b[1;32m----> 1\u001b[0m \u001b[43mdf\u001b[49m\u001b[43m[\u001b[49m\u001b[38;5;124;43m\"\u001b[39;49m\u001b[38;5;124;43mSSD\u001b[39;49m\u001b[38;5;124;43m\"\u001b[39;49m\u001b[43m]\u001b[49m\u001b[38;5;241m=\u001b[39mssd\n",
      "File \u001b[1;32m~\\AppData\\Local\\Programs\\Python\\Python312\\Lib\\site-packages\\pandas\\core\\frame.py:4091\u001b[0m, in \u001b[0;36mDataFrame.__setitem__\u001b[1;34m(self, key, value)\u001b[0m\n\u001b[0;32m   4088\u001b[0m     \u001b[38;5;28mself\u001b[39m\u001b[38;5;241m.\u001b[39m_setitem_array([key], value)\n\u001b[0;32m   4089\u001b[0m \u001b[38;5;28;01melse\u001b[39;00m:\n\u001b[0;32m   4090\u001b[0m     \u001b[38;5;66;03m# set column\u001b[39;00m\n\u001b[1;32m-> 4091\u001b[0m     \u001b[38;5;28;43mself\u001b[39;49m\u001b[38;5;241;43m.\u001b[39;49m\u001b[43m_set_item\u001b[49m\u001b[43m(\u001b[49m\u001b[43mkey\u001b[49m\u001b[43m,\u001b[49m\u001b[43m \u001b[49m\u001b[43mvalue\u001b[49m\u001b[43m)\u001b[49m\n",
      "File \u001b[1;32m~\\AppData\\Local\\Programs\\Python\\Python312\\Lib\\site-packages\\pandas\\core\\frame.py:4300\u001b[0m, in \u001b[0;36mDataFrame._set_item\u001b[1;34m(self, key, value)\u001b[0m\n\u001b[0;32m   4290\u001b[0m \u001b[38;5;28;01mdef\u001b[39;00m \u001b[38;5;21m_set_item\u001b[39m(\u001b[38;5;28mself\u001b[39m, key, value) \u001b[38;5;241m-\u001b[39m\u001b[38;5;241m>\u001b[39m \u001b[38;5;28;01mNone\u001b[39;00m:\n\u001b[0;32m   4291\u001b[0m \u001b[38;5;250m    \u001b[39m\u001b[38;5;124;03m\"\"\"\u001b[39;00m\n\u001b[0;32m   4292\u001b[0m \u001b[38;5;124;03m    Add series to DataFrame in specified column.\u001b[39;00m\n\u001b[0;32m   4293\u001b[0m \n\u001b[1;32m   (...)\u001b[0m\n\u001b[0;32m   4298\u001b[0m \u001b[38;5;124;03m    ensure homogeneity.\u001b[39;00m\n\u001b[0;32m   4299\u001b[0m \u001b[38;5;124;03m    \"\"\"\u001b[39;00m\n\u001b[1;32m-> 4300\u001b[0m     value, refs \u001b[38;5;241m=\u001b[39m \u001b[38;5;28;43mself\u001b[39;49m\u001b[38;5;241;43m.\u001b[39;49m\u001b[43m_sanitize_column\u001b[49m\u001b[43m(\u001b[49m\u001b[43mvalue\u001b[49m\u001b[43m)\u001b[49m\n\u001b[0;32m   4302\u001b[0m     \u001b[38;5;28;01mif\u001b[39;00m (\n\u001b[0;32m   4303\u001b[0m         key \u001b[38;5;129;01min\u001b[39;00m \u001b[38;5;28mself\u001b[39m\u001b[38;5;241m.\u001b[39mcolumns\n\u001b[0;32m   4304\u001b[0m         \u001b[38;5;129;01mand\u001b[39;00m value\u001b[38;5;241m.\u001b[39mndim \u001b[38;5;241m==\u001b[39m \u001b[38;5;241m1\u001b[39m\n\u001b[0;32m   4305\u001b[0m         \u001b[38;5;129;01mand\u001b[39;00m \u001b[38;5;129;01mnot\u001b[39;00m \u001b[38;5;28misinstance\u001b[39m(value\u001b[38;5;241m.\u001b[39mdtype, ExtensionDtype)\n\u001b[0;32m   4306\u001b[0m     ):\n\u001b[0;32m   4307\u001b[0m         \u001b[38;5;66;03m# broadcast across multiple columns if necessary\u001b[39;00m\n\u001b[0;32m   4308\u001b[0m         \u001b[38;5;28;01mif\u001b[39;00m \u001b[38;5;129;01mnot\u001b[39;00m \u001b[38;5;28mself\u001b[39m\u001b[38;5;241m.\u001b[39mcolumns\u001b[38;5;241m.\u001b[39mis_unique \u001b[38;5;129;01mor\u001b[39;00m \u001b[38;5;28misinstance\u001b[39m(\u001b[38;5;28mself\u001b[39m\u001b[38;5;241m.\u001b[39mcolumns, MultiIndex):\n",
      "File \u001b[1;32m~\\AppData\\Local\\Programs\\Python\\Python312\\Lib\\site-packages\\pandas\\core\\frame.py:5039\u001b[0m, in \u001b[0;36mDataFrame._sanitize_column\u001b[1;34m(self, value)\u001b[0m\n\u001b[0;32m   5036\u001b[0m     \u001b[38;5;28;01mreturn\u001b[39;00m _reindex_for_setitem(value, \u001b[38;5;28mself\u001b[39m\u001b[38;5;241m.\u001b[39mindex)\n\u001b[0;32m   5038\u001b[0m \u001b[38;5;28;01mif\u001b[39;00m is_list_like(value):\n\u001b[1;32m-> 5039\u001b[0m     \u001b[43mcom\u001b[49m\u001b[38;5;241;43m.\u001b[39;49m\u001b[43mrequire_length_match\u001b[49m\u001b[43m(\u001b[49m\u001b[43mvalue\u001b[49m\u001b[43m,\u001b[49m\u001b[43m \u001b[49m\u001b[38;5;28;43mself\u001b[39;49m\u001b[38;5;241;43m.\u001b[39;49m\u001b[43mindex\u001b[49m\u001b[43m)\u001b[49m\n\u001b[0;32m   5040\u001b[0m \u001b[38;5;28;01mreturn\u001b[39;00m sanitize_array(value, \u001b[38;5;28mself\u001b[39m\u001b[38;5;241m.\u001b[39mindex, copy\u001b[38;5;241m=\u001b[39m\u001b[38;5;28;01mTrue\u001b[39;00m, allow_2d\u001b[38;5;241m=\u001b[39m\u001b[38;5;28;01mTrue\u001b[39;00m), \u001b[38;5;28;01mNone\u001b[39;00m\n",
      "File \u001b[1;32m~\\AppData\\Local\\Programs\\Python\\Python312\\Lib\\site-packages\\pandas\\core\\common.py:561\u001b[0m, in \u001b[0;36mrequire_length_match\u001b[1;34m(data, index)\u001b[0m\n\u001b[0;32m    557\u001b[0m \u001b[38;5;250m\u001b[39m\u001b[38;5;124;03m\"\"\"\u001b[39;00m\n\u001b[0;32m    558\u001b[0m \u001b[38;5;124;03mCheck the length of data matches the length of the index.\u001b[39;00m\n\u001b[0;32m    559\u001b[0m \u001b[38;5;124;03m\"\"\"\u001b[39;00m\n\u001b[0;32m    560\u001b[0m \u001b[38;5;28;01mif\u001b[39;00m \u001b[38;5;28mlen\u001b[39m(data) \u001b[38;5;241m!=\u001b[39m \u001b[38;5;28mlen\u001b[39m(index):\n\u001b[1;32m--> 561\u001b[0m     \u001b[38;5;28;01mraise\u001b[39;00m \u001b[38;5;167;01mValueError\u001b[39;00m(\n\u001b[0;32m    562\u001b[0m         \u001b[38;5;124m\"\u001b[39m\u001b[38;5;124mLength of values \u001b[39m\u001b[38;5;124m\"\u001b[39m\n\u001b[0;32m    563\u001b[0m         \u001b[38;5;124mf\u001b[39m\u001b[38;5;124m\"\u001b[39m\u001b[38;5;124m(\u001b[39m\u001b[38;5;132;01m{\u001b[39;00m\u001b[38;5;28mlen\u001b[39m(data)\u001b[38;5;132;01m}\u001b[39;00m\u001b[38;5;124m) \u001b[39m\u001b[38;5;124m\"\u001b[39m\n\u001b[0;32m    564\u001b[0m         \u001b[38;5;124m\"\u001b[39m\u001b[38;5;124mdoes not match length of index \u001b[39m\u001b[38;5;124m\"\u001b[39m\n\u001b[0;32m    565\u001b[0m         \u001b[38;5;124mf\u001b[39m\u001b[38;5;124m\"\u001b[39m\u001b[38;5;124m(\u001b[39m\u001b[38;5;132;01m{\u001b[39;00m\u001b[38;5;28mlen\u001b[39m(index)\u001b[38;5;132;01m}\u001b[39;00m\u001b[38;5;124m)\u001b[39m\u001b[38;5;124m\"\u001b[39m\n\u001b[0;32m    566\u001b[0m     )\n",
      "\u001b[1;31mValueError\u001b[0m: Length of values (0) does not match length of index (1000)"
     ]
    }
   ],
   "source": [
    "df[\"SSD\"]=ssd"
   ]
  },
  {
   "cell_type": "code",
   "execution_count": 43,
   "id": "53900359-7c0a-416b-b300-481d52a70753",
   "metadata": {},
   "outputs": [
    {
     "data": {
      "text/plain": [
       "dtype('O')"
      ]
     },
     "execution_count": 43,
     "metadata": {},
     "output_type": "execute_result"
    }
   ],
   "source": [
    "df[\"SSD\"].dtype"
   ]
  },
  {
   "cell_type": "code",
   "execution_count": 44,
   "id": "c88e1a6a-b669-4032-ae43-e8bccfff11d3",
   "metadata": {},
   "outputs": [
    {
     "data": {
      "text/plain": [
       "Gpu\n",
       "NVIDIA GeForce GTX 1650    348\n",
       "AMD Radeon RX 5600M        339\n",
       "Intel Iris Xe Graphics     313\n",
       "Name: count, dtype: int64"
      ]
     },
     "execution_count": 44,
     "metadata": {},
     "output_type": "execute_result"
    }
   ],
   "source": [
    "df[\"Gpu\"].value_counts()"
   ]
  },
  {
   "cell_type": "code",
   "execution_count": 45,
   "id": "57e019b6-f4c1-4a58-98f6-5256ab53840a",
   "metadata": {},
   "outputs": [],
   "source": [
    "gpu = list(map(lambda x: x[:6] if x[0]==\"N\" else (x[3] if x[0]==\"A\" else x[:5]), df[\"Gpu\"]))"
   ]
  },
  {
   "cell_type": "code",
   "execution_count": 46,
   "id": "37abf367-48e3-48f7-a1af-38eae7008364",
   "metadata": {},
   "outputs": [],
   "source": [
    "df[\"Gpu\"]=gpu"
   ]
  },
  {
   "cell_type": "code",
   "execution_count": 47,
   "id": "b97b436f-5a73-4317-80ee-626fdabbe86f",
   "metadata": {},
   "outputs": [
    {
     "data": {
      "text/html": [
       "<div>\n",
       "<style scoped>\n",
       "    .dataframe tbody tr th:only-of-type {\n",
       "        vertical-align: middle;\n",
       "    }\n",
       "\n",
       "    .dataframe tbody tr th {\n",
       "        vertical-align: top;\n",
       "    }\n",
       "\n",
       "    .dataframe thead th {\n",
       "        text-align: right;\n",
       "    }\n",
       "</style>\n",
       "<table border=\"1\" class=\"dataframe\">\n",
       "  <thead>\n",
       "    <tr style=\"text-align: right;\">\n",
       "      <th></th>\n",
       "      <th>CompanyName</th>\n",
       "      <th>TypeOfLaptop</th>\n",
       "      <th>Inches</th>\n",
       "      <th>ScreenResolution</th>\n",
       "      <th>Cpu</th>\n",
       "      <th>Ram</th>\n",
       "      <th>Gpu</th>\n",
       "      <th>OpSys</th>\n",
       "      <th>Weight</th>\n",
       "      <th>Price</th>\n",
       "      <th>SSD</th>\n",
       "      <th>HDD</th>\n",
       "    </tr>\n",
       "  </thead>\n",
       "  <tbody>\n",
       "    <tr>\n",
       "      <th>0</th>\n",
       "      <td>MSI</td>\n",
       "      <td>Business</td>\n",
       "      <td>17</td>\n",
       "      <td>Retina Display</td>\n",
       "      <td>Intel Core i7</td>\n",
       "      <td>12</td>\n",
       "      <td>Intel</td>\n",
       "      <td>Linux</td>\n",
       "      <td>2.064834</td>\n",
       "      <td>35844.099371</td>\n",
       "      <td>512GB SSD</td>\n",
       "      <td>0</td>\n",
       "    </tr>\n",
       "    <tr>\n",
       "      <th>1</th>\n",
       "      <td>Samsung</td>\n",
       "      <td>2_in_1</td>\n",
       "      <td>16</td>\n",
       "      <td>Full HD</td>\n",
       "      <td>Intel Core i5</td>\n",
       "      <td>12</td>\n",
       "      <td>Intel</td>\n",
       "      <td>No OS</td>\n",
       "      <td>4.060656</td>\n",
       "      <td>37019.059051</td>\n",
       "      <td>128GB SSD</td>\n",
       "      <td>0</td>\n",
       "    </tr>\n",
       "    <tr>\n",
       "      <th>2</th>\n",
       "      <td>hp</td>\n",
       "      <td>WorkStation</td>\n",
       "      <td>17</td>\n",
       "      <td>Full HD</td>\n",
       "      <td>Intel Xeon E3-1505M</td>\n",
       "      <td>8</td>\n",
       "      <td>Intel</td>\n",
       "      <td>Linux</td>\n",
       "      <td>2.901689</td>\n",
       "      <td>33329.360341</td>\n",
       "      <td>0</td>\n",
       "      <td>1TB</td>\n",
       "    </tr>\n",
       "    <tr>\n",
       "      <th>3</th>\n",
       "      <td>MSI</td>\n",
       "      <td>2_in_1</td>\n",
       "      <td>11</td>\n",
       "      <td>2K</td>\n",
       "      <td>Intel Core i7</td>\n",
       "      <td>16</td>\n",
       "      <td>Intel</td>\n",
       "      <td>Windows 10</td>\n",
       "      <td>2.914843</td>\n",
       "      <td>68631.102486</td>\n",
       "      <td>512GB SSD</td>\n",
       "      <td>0</td>\n",
       "    </tr>\n",
       "    <tr>\n",
       "      <th>4</th>\n",
       "      <td>Microsoft</td>\n",
       "      <td>Gaming</td>\n",
       "      <td>12</td>\n",
       "      <td>Full HD</td>\n",
       "      <td>Intel Core i5</td>\n",
       "      <td>8</td>\n",
       "      <td></td>\n",
       "      <td>Windows 10</td>\n",
       "      <td>4.341995</td>\n",
       "      <td>33842.479566</td>\n",
       "      <td>512GB SSD</td>\n",
       "      <td>0</td>\n",
       "    </tr>\n",
       "  </tbody>\n",
       "</table>\n",
       "</div>"
      ],
      "text/plain": [
       "  CompanyName TypeOfLaptop  Inches ScreenResolution                   Cpu  \\\n",
       "0         MSI     Business      17   Retina Display         Intel Core i7   \n",
       "1     Samsung       2_in_1      16          Full HD         Intel Core i5   \n",
       "2          hp  WorkStation      17          Full HD  Intel Xeon E3-1505M    \n",
       "3         MSI       2_in_1      11               2K         Intel Core i7   \n",
       "4   Microsoft       Gaming      12          Full HD         Intel Core i5   \n",
       "\n",
       "   Ram    Gpu       OpSys    Weight         Price        SSD   HDD  \n",
       "0   12  Intel       Linux  2.064834  35844.099371  512GB SSD     0  \n",
       "1   12  Intel       No OS  4.060656  37019.059051  128GB SSD     0  \n",
       "2    8  Intel       Linux  2.901689  33329.360341          0  1TB   \n",
       "3   16  Intel  Windows 10  2.914843  68631.102486  512GB SSD     0  \n",
       "4    8         Windows 10  4.341995  33842.479566  512GB SSD     0  "
      ]
     },
     "execution_count": 47,
     "metadata": {},
     "output_type": "execute_result"
    }
   ],
   "source": [
    "df.head()"
   ]
  },
  {
   "cell_type": "code",
   "execution_count": 48,
   "id": "927602b2-e191-486e-997a-64284c54b759",
   "metadata": {},
   "outputs": [
    {
     "data": {
      "text/plain": [
       "OpSys\n",
       "No OS         224\n",
       "macOS         219\n",
       "Windows 10    194\n",
       "Linux         187\n",
       "Windows 11    176\n",
       "Name: count, dtype: int64"
      ]
     },
     "execution_count": 48,
     "metadata": {},
     "output_type": "execute_result"
    }
   ],
   "source": [
    "df[\"OpSys\"].value_counts()"
   ]
  },
  {
   "cell_type": "code",
   "execution_count": null,
   "id": "de7dda68-b48e-4fce-86cf-9d590ac216ff",
   "metadata": {},
   "outputs": [],
   "source": []
  },
  {
   "cell_type": "code",
   "execution_count": 51,
   "id": "15d44976-7832-4c84-b435-ab959aa3736d",
   "metadata": {},
   "outputs": [],
   "source": [
    "df[\"OpSys\"]=df[\"OpSys\"].str.replace(\"No \",\"D\")\n",
    "df[\"OpSys\"]=df[\"OpSys\"].str.replace(\"Windows \",\"Win\")"
   ]
  },
  {
   "cell_type": "code",
   "execution_count": 50,
   "id": "e95a1d17-e3af-414f-99e4-65ab321cc95a",
   "metadata": {},
   "outputs": [
    {
     "data": {
      "text/plain": [
       "array(['Linux', 'No OS', 'Windows 10', 'macOS', 'Windows 11'],\n",
       "      dtype=object)"
      ]
     },
     "execution_count": 50,
     "metadata": {},
     "output_type": "execute_result"
    }
   ],
   "source": [
    "df[\"OpSys\"].unique()"
   ]
  },
  {
   "cell_type": "code",
   "execution_count": 52,
   "id": "bd7a1a78-3890-4c69-8074-faf6bcc73f8f",
   "metadata": {},
   "outputs": [
    {
     "data": {
      "text/html": [
       "<div>\n",
       "<style scoped>\n",
       "    .dataframe tbody tr th:only-of-type {\n",
       "        vertical-align: middle;\n",
       "    }\n",
       "\n",
       "    .dataframe tbody tr th {\n",
       "        vertical-align: top;\n",
       "    }\n",
       "\n",
       "    .dataframe thead th {\n",
       "        text-align: right;\n",
       "    }\n",
       "</style>\n",
       "<table border=\"1\" class=\"dataframe\">\n",
       "  <thead>\n",
       "    <tr style=\"text-align: right;\">\n",
       "      <th></th>\n",
       "      <th>CompanyName</th>\n",
       "      <th>TypeOfLaptop</th>\n",
       "      <th>Inches</th>\n",
       "      <th>ScreenResolution</th>\n",
       "      <th>Cpu</th>\n",
       "      <th>Ram</th>\n",
       "      <th>Gpu</th>\n",
       "      <th>OpSys</th>\n",
       "      <th>Weight</th>\n",
       "      <th>Price</th>\n",
       "      <th>SSD</th>\n",
       "      <th>HDD</th>\n",
       "    </tr>\n",
       "  </thead>\n",
       "  <tbody>\n",
       "    <tr>\n",
       "      <th>0</th>\n",
       "      <td>MSI</td>\n",
       "      <td>Business</td>\n",
       "      <td>17</td>\n",
       "      <td>Retina Display</td>\n",
       "      <td>Intel Core i7</td>\n",
       "      <td>12</td>\n",
       "      <td>Intel</td>\n",
       "      <td>Linux</td>\n",
       "      <td>2.064834</td>\n",
       "      <td>35844.099371</td>\n",
       "      <td>512GB SSD</td>\n",
       "      <td>0</td>\n",
       "    </tr>\n",
       "    <tr>\n",
       "      <th>1</th>\n",
       "      <td>Samsung</td>\n",
       "      <td>2_in_1</td>\n",
       "      <td>16</td>\n",
       "      <td>Full HD</td>\n",
       "      <td>Intel Core i5</td>\n",
       "      <td>12</td>\n",
       "      <td>Intel</td>\n",
       "      <td>DOS</td>\n",
       "      <td>4.060656</td>\n",
       "      <td>37019.059051</td>\n",
       "      <td>128GB SSD</td>\n",
       "      <td>0</td>\n",
       "    </tr>\n",
       "    <tr>\n",
       "      <th>2</th>\n",
       "      <td>hp</td>\n",
       "      <td>WorkStation</td>\n",
       "      <td>17</td>\n",
       "      <td>Full HD</td>\n",
       "      <td>Intel Xeon E3-1505M</td>\n",
       "      <td>8</td>\n",
       "      <td>Intel</td>\n",
       "      <td>Linux</td>\n",
       "      <td>2.901689</td>\n",
       "      <td>33329.360341</td>\n",
       "      <td>0</td>\n",
       "      <td>1TB</td>\n",
       "    </tr>\n",
       "    <tr>\n",
       "      <th>3</th>\n",
       "      <td>MSI</td>\n",
       "      <td>2_in_1</td>\n",
       "      <td>11</td>\n",
       "      <td>2K</td>\n",
       "      <td>Intel Core i7</td>\n",
       "      <td>16</td>\n",
       "      <td>Intel</td>\n",
       "      <td>Win10</td>\n",
       "      <td>2.914843</td>\n",
       "      <td>68631.102486</td>\n",
       "      <td>512GB SSD</td>\n",
       "      <td>0</td>\n",
       "    </tr>\n",
       "    <tr>\n",
       "      <th>4</th>\n",
       "      <td>Microsoft</td>\n",
       "      <td>Gaming</td>\n",
       "      <td>12</td>\n",
       "      <td>Full HD</td>\n",
       "      <td>Intel Core i5</td>\n",
       "      <td>8</td>\n",
       "      <td></td>\n",
       "      <td>Win10</td>\n",
       "      <td>4.341995</td>\n",
       "      <td>33842.479566</td>\n",
       "      <td>512GB SSD</td>\n",
       "      <td>0</td>\n",
       "    </tr>\n",
       "  </tbody>\n",
       "</table>\n",
       "</div>"
      ],
      "text/plain": [
       "  CompanyName TypeOfLaptop  Inches ScreenResolution                   Cpu  \\\n",
       "0         MSI     Business      17   Retina Display         Intel Core i7   \n",
       "1     Samsung       2_in_1      16          Full HD         Intel Core i5   \n",
       "2          hp  WorkStation      17          Full HD  Intel Xeon E3-1505M    \n",
       "3         MSI       2_in_1      11               2K         Intel Core i7   \n",
       "4   Microsoft       Gaming      12          Full HD         Intel Core i5   \n",
       "\n",
       "   Ram    Gpu  OpSys    Weight         Price        SSD   HDD  \n",
       "0   12  Intel  Linux  2.064834  35844.099371  512GB SSD     0  \n",
       "1   12  Intel    DOS  4.060656  37019.059051  128GB SSD     0  \n",
       "2    8  Intel  Linux  2.901689  33329.360341          0  1TB   \n",
       "3   16  Intel  Win10  2.914843  68631.102486  512GB SSD     0  \n",
       "4    8         Win10  4.341995  33842.479566  512GB SSD     0  "
      ]
     },
     "execution_count": 52,
     "metadata": {},
     "output_type": "execute_result"
    }
   ],
   "source": [
    "df.head()"
   ]
  },
  {
   "cell_type": "code",
   "execution_count": 54,
   "id": "149f5a36-9699-4083-a7fa-34973ab8fa47",
   "metadata": {},
   "outputs": [],
   "source": [
    "df[\"Price\"]=df[\"Price\"].astype(\"int64\")"
   ]
  },
  {
   "cell_type": "code",
   "execution_count": 55,
   "id": "8297da4a-ccf5-415e-84e5-71595f5ddec7",
   "metadata": {},
   "outputs": [
    {
     "data": {
      "text/html": [
       "<div>\n",
       "<style scoped>\n",
       "    .dataframe tbody tr th:only-of-type {\n",
       "        vertical-align: middle;\n",
       "    }\n",
       "\n",
       "    .dataframe tbody tr th {\n",
       "        vertical-align: top;\n",
       "    }\n",
       "\n",
       "    .dataframe thead th {\n",
       "        text-align: right;\n",
       "    }\n",
       "</style>\n",
       "<table border=\"1\" class=\"dataframe\">\n",
       "  <thead>\n",
       "    <tr style=\"text-align: right;\">\n",
       "      <th></th>\n",
       "      <th>CompanyName</th>\n",
       "      <th>TypeOfLaptop</th>\n",
       "      <th>Inches</th>\n",
       "      <th>ScreenResolution</th>\n",
       "      <th>Cpu</th>\n",
       "      <th>Ram</th>\n",
       "      <th>Gpu</th>\n",
       "      <th>OpSys</th>\n",
       "      <th>Weight</th>\n",
       "      <th>Price</th>\n",
       "      <th>SSD</th>\n",
       "      <th>HDD</th>\n",
       "    </tr>\n",
       "  </thead>\n",
       "  <tbody>\n",
       "    <tr>\n",
       "      <th>0</th>\n",
       "      <td>MSI</td>\n",
       "      <td>Business</td>\n",
       "      <td>17</td>\n",
       "      <td>Retina Display</td>\n",
       "      <td>Intel Core i7</td>\n",
       "      <td>12</td>\n",
       "      <td>Intel</td>\n",
       "      <td>Linux</td>\n",
       "      <td>2.064834</td>\n",
       "      <td>35844</td>\n",
       "      <td>512GB SSD</td>\n",
       "      <td>0</td>\n",
       "    </tr>\n",
       "    <tr>\n",
       "      <th>1</th>\n",
       "      <td>Samsung</td>\n",
       "      <td>2_in_1</td>\n",
       "      <td>16</td>\n",
       "      <td>Full HD</td>\n",
       "      <td>Intel Core i5</td>\n",
       "      <td>12</td>\n",
       "      <td>Intel</td>\n",
       "      <td>DOS</td>\n",
       "      <td>4.060656</td>\n",
       "      <td>37019</td>\n",
       "      <td>128GB SSD</td>\n",
       "      <td>0</td>\n",
       "    </tr>\n",
       "    <tr>\n",
       "      <th>2</th>\n",
       "      <td>hp</td>\n",
       "      <td>WorkStation</td>\n",
       "      <td>17</td>\n",
       "      <td>Full HD</td>\n",
       "      <td>Intel Xeon E3-1505M</td>\n",
       "      <td>8</td>\n",
       "      <td>Intel</td>\n",
       "      <td>Linux</td>\n",
       "      <td>2.901689</td>\n",
       "      <td>33329</td>\n",
       "      <td>0</td>\n",
       "      <td>1TB</td>\n",
       "    </tr>\n",
       "    <tr>\n",
       "      <th>3</th>\n",
       "      <td>MSI</td>\n",
       "      <td>2_in_1</td>\n",
       "      <td>11</td>\n",
       "      <td>2K</td>\n",
       "      <td>Intel Core i7</td>\n",
       "      <td>16</td>\n",
       "      <td>Intel</td>\n",
       "      <td>Win10</td>\n",
       "      <td>2.914843</td>\n",
       "      <td>68631</td>\n",
       "      <td>512GB SSD</td>\n",
       "      <td>0</td>\n",
       "    </tr>\n",
       "    <tr>\n",
       "      <th>4</th>\n",
       "      <td>Microsoft</td>\n",
       "      <td>Gaming</td>\n",
       "      <td>12</td>\n",
       "      <td>Full HD</td>\n",
       "      <td>Intel Core i5</td>\n",
       "      <td>8</td>\n",
       "      <td></td>\n",
       "      <td>Win10</td>\n",
       "      <td>4.341995</td>\n",
       "      <td>33842</td>\n",
       "      <td>512GB SSD</td>\n",
       "      <td>0</td>\n",
       "    </tr>\n",
       "  </tbody>\n",
       "</table>\n",
       "</div>"
      ],
      "text/plain": [
       "  CompanyName TypeOfLaptop  Inches ScreenResolution                   Cpu  \\\n",
       "0         MSI     Business      17   Retina Display         Intel Core i7   \n",
       "1     Samsung       2_in_1      16          Full HD         Intel Core i5   \n",
       "2          hp  WorkStation      17          Full HD  Intel Xeon E3-1505M    \n",
       "3         MSI       2_in_1      11               2K         Intel Core i7   \n",
       "4   Microsoft       Gaming      12          Full HD         Intel Core i5   \n",
       "\n",
       "   Ram    Gpu  OpSys    Weight  Price        SSD   HDD  \n",
       "0   12  Intel  Linux  2.064834  35844  512GB SSD     0  \n",
       "1   12  Intel    DOS  4.060656  37019  128GB SSD     0  \n",
       "2    8  Intel  Linux  2.901689  33329          0  1TB   \n",
       "3   16  Intel  Win10  2.914843  68631  512GB SSD     0  \n",
       "4    8         Win10  4.341995  33842  512GB SSD     0  "
      ]
     },
     "execution_count": 55,
     "metadata": {},
     "output_type": "execute_result"
    }
   ],
   "source": [
    "df.head()"
   ]
  },
  {
   "cell_type": "code",
   "execution_count": 56,
   "id": "eb36ba58-c5a9-4be0-87ac-b4163be98d58",
   "metadata": {},
   "outputs": [
    {
     "data": {
      "image/png": "[encoded data removed]",
      "text/plain": [
       "<Figure size 640x480 with 1 Axes>"
      ]
     },
     "metadata": {},
     "output_type": "display_data"
    }
   ],
   "source": [
    "sns.countplot(x=df[\"CompanyName\"])\n",
    "plt.show()"
   ]
  },
  {
   "cell_type": "code",
   "execution_count": 57,
   "id": "cd11dfec-b252-4972-bae5-06d470955964",
   "metadata": {},
   "outputs": [
    {
     "data": {
      "text/html": [
       "<div>\n",
       "<style scoped>\n",
       "    .dataframe tbody tr th:only-of-type {\n",
       "        vertical-align: middle;\n",
       "    }\n",
       "\n",
       "    .dataframe tbody tr th {\n",
       "        vertical-align: top;\n",
       "    }\n",
       "\n",
       "    .dataframe thead th {\n",
       "        text-align: right;\n",
       "    }\n",
       "</style>\n",
       "<table border=\"1\" class=\"dataframe\">\n",
       "  <thead>\n",
       "    <tr style=\"text-align: right;\">\n",
       "      <th>TypeOfLaptop</th>\n",
       "      <th>2_in_1</th>\n",
       "      <th>Business</th>\n",
       "      <th>Gaming</th>\n",
       "      <th>NoteBook</th>\n",
       "      <th>UltraBook</th>\n",
       "      <th>WorkStation</th>\n",
       "    </tr>\n",
       "    <tr>\n",
       "      <th>CompanyName</th>\n",
       "      <th></th>\n",
       "      <th></th>\n",
       "      <th></th>\n",
       "      <th></th>\n",
       "      <th></th>\n",
       "      <th></th>\n",
       "    </tr>\n",
       "  </thead>\n",
       "  <tbody>\n",
       "    <tr>\n",
       "      <th>Acer</th>\n",
       "      <td>18</td>\n",
       "      <td>15</td>\n",
       "      <td>16</td>\n",
       "      <td>17</td>\n",
       "      <td>17</td>\n",
       "      <td>24</td>\n",
       "    </tr>\n",
       "    <tr>\n",
       "      <th>Apple</th>\n",
       "      <td>24</td>\n",
       "      <td>16</td>\n",
       "      <td>21</td>\n",
       "      <td>12</td>\n",
       "      <td>20</td>\n",
       "      <td>20</td>\n",
       "    </tr>\n",
       "    <tr>\n",
       "      <th>Asus</th>\n",
       "      <td>17</td>\n",
       "      <td>20</td>\n",
       "      <td>21</td>\n",
       "      <td>11</td>\n",
       "      <td>25</td>\n",
       "      <td>18</td>\n",
       "    </tr>\n",
       "    <tr>\n",
       "      <th>Dell</th>\n",
       "      <td>12</td>\n",
       "      <td>16</td>\n",
       "      <td>21</td>\n",
       "      <td>15</td>\n",
       "      <td>17</td>\n",
       "      <td>20</td>\n",
       "    </tr>\n",
       "    <tr>\n",
       "      <th>MSI</th>\n",
       "      <td>16</td>\n",
       "      <td>28</td>\n",
       "      <td>22</td>\n",
       "      <td>26</td>\n",
       "      <td>13</td>\n",
       "      <td>23</td>\n",
       "    </tr>\n",
       "    <tr>\n",
       "      <th>Microsoft</th>\n",
       "      <td>27</td>\n",
       "      <td>22</td>\n",
       "      <td>27</td>\n",
       "      <td>15</td>\n",
       "      <td>13</td>\n",
       "      <td>14</td>\n",
       "    </tr>\n",
       "    <tr>\n",
       "      <th>Samsung</th>\n",
       "      <td>13</td>\n",
       "      <td>24</td>\n",
       "      <td>14</td>\n",
       "      <td>18</td>\n",
       "      <td>18</td>\n",
       "      <td>22</td>\n",
       "    </tr>\n",
       "    <tr>\n",
       "      <th>hp</th>\n",
       "      <td>17</td>\n",
       "      <td>15</td>\n",
       "      <td>16</td>\n",
       "      <td>20</td>\n",
       "      <td>21</td>\n",
       "      <td>10</td>\n",
       "    </tr>\n",
       "    <tr>\n",
       "      <th>lenevo</th>\n",
       "      <td>18</td>\n",
       "      <td>20</td>\n",
       "      <td>10</td>\n",
       "      <td>19</td>\n",
       "      <td>22</td>\n",
       "      <td>24</td>\n",
       "    </tr>\n",
       "  </tbody>\n",
       "</table>\n",
       "</div>"
      ],
      "text/plain": [
       "TypeOfLaptop  2_in_1  Business  Gaming  NoteBook  UltraBook  WorkStation\n",
       "CompanyName                                                             \n",
       "Acer              18        15      16        17         17           24\n",
       "Apple             24        16      21        12         20           20\n",
       "Asus              17        20      21        11         25           18\n",
       "Dell              12        16      21        15         17           20\n",
       "MSI               16        28      22        26         13           23\n",
       "Microsoft         27        22      27        15         13           14\n",
       "Samsung           13        24      14        18         18           22\n",
       "hp                17        15      16        20         21           10\n",
       "lenevo            18        20      10        19         22           24"
      ]
     },
     "execution_count": 57,
     "metadata": {},
     "output_type": "execute_result"
    }
   ],
   "source": [
    "pd.crosstab(df[\"CompanyName\"], df[\"TypeOfLaptop\"])"
   ]
  },
  {
   "cell_type": "code",
   "execution_count": null,
   "id": "74ef0401-9d84-41f0-8bfb-644136002013",
   "metadata": {},
   "outputs": [],
   "source": []
  }
 ],
 "metadata": {
  "kernelspec": {
   "display_name": "Python 3 (ipykernel)",
   "language": "python",
   "name": "python3"
  },
  "language_info": {
   "codemirror_mode": {
    "name": "ipython",
    "version": 3
   },
   "file_extension": ".py",
   "mimetype": "text/x-python",
   "name": "python",
   "nbconvert_exporter": "python",
   "pygments_lexer": "ipython3",
   "version": "3.12.0"
  }
 },
 "nbformat": 4,
 "nbformat_minor": 5
}
